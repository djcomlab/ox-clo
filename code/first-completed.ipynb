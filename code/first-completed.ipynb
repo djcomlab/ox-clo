import unicodedata
def u2a(u): return str(unicodedata.normalize('NFKD',u).encode('ascii','ignore'))
def strip(s): return ''.join(filter(str.isalpha, s))
books = sc.textFile("hdfs://localhost:54310/user/oxclo/books/*")

split = books.flatMap(lambda line: line.split())
asc = split.map(u2a)
stripped = asc.map(strip)
notempty = stripped.filter(lambda w: len(w)>0)

# now map the words to lower case
lowered = notempty.map(lambda w: w.lower())

# next convert the words into (k,v) pairs, where the key is the word, and the value is the count so far (1)
numbered = lowered.map(lambda w: (w,1))

# next reduce by key, adding up the counts as you go 
wordcount = numbered.reduceByKey(lambda a,b: a+b)

# make sure your final variable is called wordcount, so this next line will print it out

for k,v in wordcount.collect(): 
    print k,v



